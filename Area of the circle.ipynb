{
 "cells": [
  {
   "cell_type": "code",
   "execution_count": 1,
   "id": "5a1dbc76",
   "metadata": {},
   "outputs": [
    {
     "name": "stdout",
     "output_type": "stream",
     "text": [
      "Enter the radius of the circle : 10\n",
      "Area of the circle is : 314.1592653589793\n"
     ]
    }
   ],
   "source": [
    "import math \n",
    "radius = float(input(\"Enter the radius of the circle : \")) \n",
    "area = math.pi * radius * radius \n",
    "print(\"Area of the circle is : {0}\".format(area))"
   ]
  },
  {
   "cell_type": "code",
   "execution_count": null,
   "id": "1f600e0e",
   "metadata": {},
   "outputs": [],
   "source": []
  }
 ],
 "metadata": {
  "kernelspec": {
   "display_name": "Python 3 (ipykernel)",
   "language": "python",
   "name": "python3"
  },
  "language_info": {
   "codemirror_mode": {
    "name": "ipython",
    "version": 3
   },
   "file_extension": ".py",
   "mimetype": "text/x-python",
   "name": "python",
   "nbconvert_exporter": "python",
   "pygments_lexer": "ipython3",
   "version": "3.8.3"
  }
 },
 "nbformat": 4,
 "nbformat_minor": 5
}
